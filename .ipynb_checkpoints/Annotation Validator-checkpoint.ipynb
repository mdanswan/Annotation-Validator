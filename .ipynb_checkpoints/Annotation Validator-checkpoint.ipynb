{
 "cells": [
  {
   "cell_type": "code",
   "execution_count": null,
   "metadata": {},
   "outputs": [],
   "source": [
    "\"\"\"\n",
    "23/03/21 09:44\n",
    "Developed by Miles Danswan\n",
    "\"\"\""
   ]
  },
  {
   "cell_type": "code",
   "execution_count": null,
   "metadata": {},
   "outputs": [],
   "source": [
    "import os\n",
    "import json as js # parsing the json annotation files\n",
    "import tkinter as tk # displaying a native window\n",
    "import tkinter.filedialog as fd # open file dialog (retrieiving json files)\n",
    "import matplotlib.pyplot as plt # working with skimage\n",
    "from matplotlib.backends.backend_tkagg import FigureCanvasTkAgg\n",
    "from skimage import io"
   ]
  },
  {
   "cell_type": "code",
   "execution_count": null,
   "metadata": {},
   "outputs": [],
   "source": [
    "def get_filename(root):\n",
    "    return fd.askopenfilename(parent=root,filetypes=[(\"Annotation Files\", \"*.json\"), (\"All\", \"*.*\")])"
   ]
  },
  {
   "cell_type": "code",
   "execution_count": null,
   "metadata": {},
   "outputs": [],
   "source": [
    "def get_annotation_set(root):\n",
    "    \n",
    "    json_filepath = None\n",
    "    img_filepath = None\n",
    "    \n",
    "    # retrieve and split the filename of a json file\n",
    "    fn = get_filename(root)\n",
    "    json_filepath = fn\n",
    "    path = os.path.split(fn)\n",
    "    directory = path[0]\n",
    "    filename = os.path.splitext(path[1])[0]\n",
    "    \n",
    "    # attempt to find the corresponding image file (recognised img files: png, jpg, jpeg)\n",
    "    for fn in os.listdir(directory):\n",
    "        if ((filename in fn) and (fn.endswith(\".png\") or fn.endswith(\".jpg\") or fn.endswith(\".jpeg\"))):\n",
    "            img_filepath = directory + \"/\" + fn\n",
    "            break\n",
    "            \n",
    "    return (json_filepath, img_filepath)"
   ]
  },
  {
   "cell_type": "code",
   "execution_count": null,
   "metadata": {},
   "outputs": [],
   "source": [
    "def create_window(name, w_x_h):\n",
    "    main = tk.Tk()\n",
    "    main.title(name)\n",
    "    main.geometry(w_x_h)\n",
    "    return main"
   ]
  },
  {
   "cell_type": "code",
   "execution_count": null,
   "metadata": {},
   "outputs": [],
   "source": [
    "def load_json_file(filepath):\n",
    "    \n",
    "    poly_region_points = []\n",
    "    rect_region_points = []\n",
    "    region_types = []\n",
    "    region_classes = []\n",
    "    \n",
    "    with open(filepath) as json:\n",
    "        data = js.load(json)\n",
    "        image_id = data[\"_via_image_id_list\"][0]\n",
    "        anno_data = data[\"_via_img_metadata\"][image_id]\n",
    "        for region in anno_data[\"regions\"]:\n",
    "            reg_shape_attr = region[\"shape_attributes\"]\n",
    "            if (reg_shape_attr[\"name\"] == \"polygon\"):\n",
    "                region_point = []\n",
    "                for i in range(len(reg_shape_attr[\"all_points_x\"])):\n",
    "                    region_point.append((reg_shape_attr[\"all_points_x\"][i], reg_shape_attr[\"all_points_y\"][i]))\n",
    "                poly_region_points.append(region_point)\n",
    "            elif (reg_shape_attr[\"name\"] == \"rect\"):\n",
    "                rect_region_points.append((reg_shape_attr[\"x\"], reg_shape_attr[\"y\"], reg_shape_attr[\"width\"], reg_shape_attr[\"height\"]))\n",
    "                \n",
    "    print(poly_region_points)\n",
    "    print(rect_region_points)"
   ]
  },
  {
   "cell_type": "code",
   "execution_count": null,
   "metadata": {},
   "outputs": [],
   "source": [
    "# Creating a Tkinter Window to host the Annotated Image and Annotations\n",
    "main = create_window(\"Annotation Validator\", \"800x600\")\n",
    "\n",
    "# Attempt to retrieve the annotated image and corresponding json data\n",
    "(json_path, img_path) = get_annotation_set(main)\n",
    "\n",
    "# Load the json file\n",
    "load_json_file(json_path);\n",
    "\n",
    "# # Retrieve the image to show in the window\n",
    "# image_path = get_filename(main)\n",
    "\n",
    "# data = io.imread(fp)\n",
    "# f = plt.figure(figsize=(1,1))\n",
    "# ax = f.add_subplot(111)\n",
    "# plt.axis(\"off\")\n",
    "# img = plt.imshow(data)\n",
    "\n",
    "# # Creating a canvas for the Figure\n",
    "# fig_canvas = FigureCanvasTkAgg(f, master=main)\n",
    "# fig_canvas.draw()\n",
    "# main_canvas = fig_canvas.get_tk_widget()\n",
    "# main_canvas.pack(side=tk.TOP, fill=tk.BOTH, expand=1)\n",
    "\n",
    "# r = main_canvas.create_rectangle(0, 0, 800, 600, outline=\"red\", tags=(\"line\"))\n",
    "\n",
    "# # custom configuration function for the main canvas\n",
    "# def configure_canvas(event):\n",
    "#     global r, main_canvas\n",
    "    \n",
    "#     new_w, new_h = event.width, event.height\n",
    "#     xy = 0, 0, new_w-1, new_h-1\n",
    "        \n",
    "#     # Creating a canvas for the Figure\n",
    "#     main_canvas = fig_canvas.get_tk_widget()\n",
    "#     main_canvas.pack(side=tk.TOP, fill=tk.BOTH, expand=1)\n",
    "\n",
    "#     # remove all old overlay components\n",
    "#     main_canvas.delete(\"line\");\n",
    "    \n",
    "#     # redraw overlay components with new coordinates\n",
    "#     r = main_canvas.create_rectangle(xy, outline=\"red\", tags=(\"line\"))\n",
    "    \n",
    "#     # Update the Main Window\n",
    "#     main.update()\n",
    "        \n",
    "# main.bind(\"<Configure>\", configure_canvas)\n",
    "\n",
    "tk.mainloop()"
   ]
  },
  {
   "cell_type": "code",
   "execution_count": null,
   "metadata": {},
   "outputs": [],
   "source": []
  },
  {
   "cell_type": "code",
   "execution_count": null,
   "metadata": {},
   "outputs": [],
   "source": []
  }
 ],
 "metadata": {
  "kernelspec": {
   "display_name": "Python 3",
   "language": "python",
   "name": "python3"
  },
  "language_info": {
   "codemirror_mode": {
    "name": "ipython",
    "version": 3
   },
   "file_extension": ".py",
   "mimetype": "text/x-python",
   "name": "python",
   "nbconvert_exporter": "python",
   "pygments_lexer": "ipython3",
   "version": "3.8.5"
  }
 },
 "nbformat": 4,
 "nbformat_minor": 4
}
